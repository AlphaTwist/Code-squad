{
 "cells": [
  {
   "cell_type": "markdown",
   "metadata": {},
   "source": [
    "# Delete Node in a Linked List\n",
    "\n",
    "Input: head = [4,5,1,9], node = 5\n",
    "Output: [4,1,9]\n",
    "Explanation: You are given the second node with value 5, the linked list\n",
    "             should become 4 -> 1 -> 9 after calling your function.\n",
    "\n",
    "Input: head = [4,5,1,9], node = 1\n",
    "Output: [4,5,9]\n",
    "Explanation: You are given the third node with value 1, the linked list\n",
    "             should become 4 -> 5 -> 9 after calling your function."
   ]
  },
  {
   "cell_type": "code",
   "execution_count": 1,
   "metadata": {},
   "outputs": [],
   "source": [
    "# Definition for singly-linked list.\n",
    "# class ListNode:\n",
    "#     def __init__(self, x):\n",
    "#         self.val = x\n",
    "#         self.next = None\n",
    "\n",
    "class Solution:\n",
    "    def deleteNode(self, node):\n",
    "        \"\"\"\n",
    "        :type node: ListNode\n",
    "        :rtype: void Do not return anything, modify node in-place instead.\n",
    "        \"\"\"\n",
    "        # Summary: To achieve appearance of deleting the node, we actually need to copy the data for the next node \n",
    "        # into the node that we were asked to delete then update the node's pointer to the next nodes pointer value\n",
    "        \n",
    "        # Input third node with value 3\n",
    "        #   {value: 3, pointer: fourth node}\n",
    "\n",
    "        # Debugging \n",
    "        node.val = node.next.val\n",
    "        #   node.val equals 3\n",
    "        #   node.next.val equals 4\n",
    "        #   node.val assigned the value of 4\n",
    "        # Output\n",
    "        #   1 -> 2 -> 4 -> 4\n",
    "        \n",
    "        node.next = node.next.next\n",
    "        # node.next = third node \n",
    "        # node.next.next = NULL/None\n",
    "        # node.next assigned NULL/None\n",
    "        # Output\n",
    "        #   1 -> 2 -> 4"
   ]
  },
  {
   "cell_type": "code",
   "execution_count": null,
   "metadata": {},
   "outputs": [],
   "source": [
    "#Delete alternate node from the list\n",
    "#Keep track of previous of the node to be deleted. First change the next link of previous node and then free the memory allocated for the node\n",
    "\n",
    "\n",
    "def deleteNodeAlt(head):\n",
    "        if not head:\n",
    "            return None\n",
    "        \n",
    "        prev , cur = head, head.next\n",
    "        while prev and cur :\n",
    "            #change next link of prev node\n",
    "            prev.next = cur.next\n",
    "            #free upcurrent node\n",
    "            cur = None\n",
    "            \n",
    "            #update prev and cur\n",
    "            prev = prev.next\n",
    "            if not prev:\n",
    "                cur = prev.next\n",
    "        \n",
    "        "
   ]
  }
 ],
 "metadata": {
  "kernelspec": {
   "display_name": "Python 3",
   "language": "python",
   "name": "python3"
  },
  "language_info": {
   "codemirror_mode": {
    "name": "ipython",
    "version": 3
   },
   "file_extension": ".py",
   "mimetype": "text/x-python",
   "name": "python",
   "nbconvert_exporter": "python",
   "pygments_lexer": "ipython3",
   "version": "3.6.2"
  }
 },
 "nbformat": 4,
 "nbformat_minor": 2
}
