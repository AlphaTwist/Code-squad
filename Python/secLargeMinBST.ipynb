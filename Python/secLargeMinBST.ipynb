{
 "cells": [
  {
   "cell_type": "markdown",
   "metadata": {},
   "source": [
    "## kTH Smallest element"
   ]
  },
  {
   "cell_type": "code",
   "execution_count": 11,
   "metadata": {},
   "outputs": [
    {
     "name": "stdout",
     "output_type": "stream",
     "text": [
      "22\n"
     ]
    }
   ],
   "source": [
    "\n",
    "# Definition for a binary tree node.\n",
    "# class TreeNode:\n",
    "#     def __init__(self, x):\n",
    "#         self.val = x\n",
    "#         self.left = None\n",
    "#         self.right = None\n",
    "\n",
    "class Solution:\n",
    "    # @param {TreeNode} root\n",
    "    # @param {integer} k\n",
    "    # @return {integer}\n",
    "    def kthSmallest(self, root, k):\n",
    "        for val in self.inorder(root):\n",
    "            if k == 1:\n",
    "                return val\n",
    "            else:\n",
    "                k -= 1\n",
    "        \n",
    "    def inorder(self, root):\n",
    "        if root is not None:\n",
    "            for val in self.inorder(root.left):\n",
    "                yield val\n",
    "            yield root.val\n",
    "            for val in self.inorder(root.right):\n",
    "                yield val"
   ]
  },
  {
   "cell_type": "markdown",
   "metadata": {},
   "source": [
    "## kth Largest element"
   ]
  },
  {
   "cell_type": "code",
   "execution_count": null,
   "metadata": {},
   "outputs": [],
   "source": [
    "# Definitio\n",
    "n for a binary tree node.\n",
    "# class TreeNode:\n",
    "#     def __init__(self, x):\n",
    "#         self.val = x\n",
    "#         self.left = None\n",
    "#         self.right = None\n",
    "\n",
    "class Solution:\n",
    "    # @param {TreeNode} root\n",
    "    # @param {integer} k\n",
    "    # @return {integer}\n",
    "    def kthSmallest(self, root, k):\n",
    "        for val in self.inorder(root):\n",
    "            if k == 1:\n",
    "                return val\n",
    "            else:\n",
    "                k -= 1\n",
    "        \n",
    "    def inorder(self, root):\n",
    "        if root is not None:\n",
    "            for val in self.inorder(root.right):\n",
    "                yield val\n",
    "            yield root.val\n",
    "            for val in self.inorder(root.left):\n",
    "                yield val"
   ]
  },
  {
   "cell_type": "code",
   "execution_count": null,
   "metadata": {},
   "outputs": [],
   "source": [
    "#iterative\n",
    "def kthSmallest(root, k):\n",
    "    stack = []\n",
    "    while root or stack:\n",
    "        while root:\n",
    "            stack.append(root)\n",
    "            root = root.left\n",
    "        root = stack.pop()\n",
    "        k -= 1\n",
    "        if k == 0:\n",
    "            return root.val\n",
    "        root = root.right"
   ]
  }
 ],
 "metadata": {
  "kernelspec": {
   "display_name": "Python 3",
   "language": "python",
   "name": "python3"
  },
  "language_info": {
   "codemirror_mode": {
    "name": "ipython",
    "version": 3
   },
   "file_extension": ".py",
   "mimetype": "text/x-python",
   "name": "python",
   "nbconvert_exporter": "python",
   "pygments_lexer": "ipython3",
   "version": "3.6.4"
  }
 },
 "nbformat": 4,
 "nbformat_minor": 2
}
