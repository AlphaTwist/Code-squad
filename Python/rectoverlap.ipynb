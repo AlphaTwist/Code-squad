{
 "cells": [
  {
   "cell_type": "markdown",
   "metadata": {},
   "source": [
    "## rectangle overlap"
   ]
  },
  {
   "cell_type": "code",
   "execution_count": null,
   "metadata": {},
   "outputs": [],
   "source": [
    "def overlap(r1, r2):\n",
    "    '''Overlapping rectangles overlap both horizontally & vertically\n",
    "    '''\n",
    "    return range_overlap(r1.left, r1.right, r2.left, r2.right) and range_overlap(r1.bottom, r1.top, r2.bottom, r2.top)"
   ]
  },
  {
   "cell_type": "code",
   "execution_count": null,
   "metadata": {},
   "outputs": [],
   "source": [
    "def range_overlap(a_min, a_max, b_min, b_max):\n",
    "    '''Neither range is completely greater than the other\n",
    "    '''\n",
    "    overlapping = True\n",
    "    if (a_min > b_max) or (a_max < b_min):\n",
    "        overlapping = False\n",
    "    return overlapping"
   ]
  },
  {
   "cell_type": "code",
   "execution_count": null,
   "metadata": {},
   "outputs": [],
   "source": [
    "def range_overlap(a_min, a_max, b_min, b_max):\n",
    "    '''Neither range is completely greater than the other\n",
    "    '''\n",
    "    return not ((a_min > b_max) or (b_min > a_max))"
   ]
  },
  {
   "cell_type": "code",
   "execution_count": null,
   "metadata": {},
   "outputs": [],
   "source": [
    "def range_overlap(a_min, a_max, b_min, b_max):\n",
    "    '''Neither range is completely greater than the other\n",
    "    '''\n",
    "    return (a_min <= b_max) and (b_min <= a_max)"
   ]
  }
 ],
 "metadata": {
  "kernelspec": {
   "display_name": "Python 3",
   "language": "python",
   "name": "python3"
  },
  "language_info": {
   "codemirror_mode": {
    "name": "ipython",
    "version": 3
   },
   "file_extension": ".py",
   "mimetype": "text/x-python",
   "name": "python",
   "nbconvert_exporter": "python",
   "pygments_lexer": "ipython3",
   "version": "3.6.4"
  }
 },
 "nbformat": 4,
 "nbformat_minor": 2
}
