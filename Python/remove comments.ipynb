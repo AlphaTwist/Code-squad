{
 "cells": [
  {
   "cell_type": "markdown",
   "metadata": {},
   "source": [
    "## Remove Comments\n",
    "Given a C++ program, remove comments from it. The program source is an array where source[i] is the i-th line of the source code. This represents the result of splitting the original source code string by the newline character \\n.\n",
    "// - a line comment\n",
    "/* - block comment"
   ]
  },
  {
   "cell_type": "code",
   "execution_count": 12,
   "metadata": {},
   "outputs": [],
   "source": [
    "def removeComments(source):\n",
    "    \"\"\"\n",
    "    :type source: List[str]\n",
    "    :rtype: List[str]\n",
    "    \"\"\"\n",
    "    res, buffer, code_block = [], '', False\n",
    "    for line in source:\n",
    "        i = 0\n",
    "        while i < len(line):\n",
    "            char = line[i]\n",
    "            # \"//\" -> Line comment.\n",
    "            if char == '/' and (i + 1) < len(line) and line[i + 1] == '/' and not code_block:\n",
    "                # Advance pointer to end of current line.\n",
    "                i = len(line) \n",
    "                \n",
    "            # \"/*\" -> Start of block comment.\n",
    "            elif char == '/' and (i + 1) < len(line) and line[i + 1] == '*' and not code_block:\n",
    "                code_block = True\n",
    "                i += 1\n",
    "                \n",
    "            # \"*/\" -> End of block comment.\n",
    "            elif char == '*' and (i + 1) < len(line) and line[i + 1] == '/' and code_block:\n",
    "                code_block = False\n",
    "                i += 1\n",
    "                \n",
    "            # Normal character. Append to buffer if not in block comment.\n",
    "            elif not code_block:\n",
    "                buffer += char\n",
    "            i += 1\n",
    "            \n",
    "        if buffer and not code_block:\n",
    "            res.append(buffer)\n",
    "            buffer = ''\n",
    "            \n",
    "    return res "
   ]
  },
  {
   "cell_type": "code",
   "execution_count": 13,
   "metadata": {},
   "outputs": [],
   "source": [
    "source = [\"/*Test program */\", \"int main()\", \"{ \", \"  // variable declaration \", \n",
    "          \"int a, b, c;\", \"/* This is a test\", \"   multiline  \", \"   comment for \", \n",
    "          \"   testing */\", \"a = b + c;\", \"}\"]"
   ]
  },
  {
   "cell_type": "code",
   "execution_count": 14,
   "metadata": {},
   "outputs": [
    {
     "data": {
      "text/plain": [
       "['int main()', '{ ', '  ', 'int a, b, c;', 'a = b + c;', '}']"
      ]
     },
     "execution_count": 14,
     "metadata": {},
     "output_type": "execute_result"
    }
   ],
   "source": [
    "removeComments(source)"
   ]
  },
  {
   "cell_type": "code",
   "execution_count": 7,
   "metadata": {},
   "outputs": [],
   "source": [
    "source = [\"a/*comment\", \"line\", \"more_comment*/b\"]"
   ]
  },
  {
   "cell_type": "code",
   "execution_count": 8,
   "metadata": {},
   "outputs": [
    {
     "data": {
      "text/plain": [
       "['ab']"
      ]
     },
     "execution_count": 8,
     "metadata": {},
     "output_type": "execute_result"
    }
   ],
   "source": [
    "removeComments(source)"
   ]
  },
  {
   "cell_type": "code",
   "execution_count": null,
   "metadata": {},
   "outputs": [],
   "source": []
  }
 ],
 "metadata": {
  "kernelspec": {
   "display_name": "Python 3",
   "language": "python",
   "name": "python3"
  },
  "language_info": {
   "codemirror_mode": {
    "name": "ipython",
    "version": 3
   },
   "file_extension": ".py",
   "mimetype": "text/x-python",
   "name": "python",
   "nbconvert_exporter": "python",
   "pygments_lexer": "ipython3",
   "version": "3.6.4"
  }
 },
 "nbformat": 4,
 "nbformat_minor": 2
}
