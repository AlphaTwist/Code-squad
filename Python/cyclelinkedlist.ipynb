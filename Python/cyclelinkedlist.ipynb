{
 "cells": [
  {
   "cell_type": "code",
   "execution_count": null,
   "metadata": {},
   "outputs": [],
   "source": [
    "# Definition for singly-linked list.\n",
    "# class ListNode(object):\n",
    "#     def __init__(self, x):\n",
    "#         self.val = x\n",
    "#         self.next = None\n",
    "\n",
    "class Solution:\n",
    "    # @param head, a ListNode\n",
    "    # @return a list node\n",
    "    def detectCycle(self, head):\n",
    "        try:\n",
    "            fast = head.next\n",
    "            slow = head\n",
    "            while fast is not slow:\n",
    "                fast = fast.next.next\n",
    "                slow = slow.next\n",
    "        except:\n",
    "            # if there is an exception, we reach the end and there is no cycle\n",
    "            return None\n",
    "\n",
    "        # since fast starts at head.next, we need to move slow one step forward\n",
    "        slow = slow.next\n",
    "        while head is not slow:\n",
    "            head = head.next\n",
    "            slow = slow.next\n",
    "\n",
    "        return head"
   ]
  },
  {
   "cell_type": "markdown",
   "metadata": {},
   "source": [
    "https://leetcode.com/problems/linked-list-cycle/discuss/117109/C++-Floyd-Cycle-Detection-Algorithm\n",
    "\n",
    "We will use the same Tortoise and Hare approach where two pointers are mainted.\n",
    "\n",
    "Slow pointer //Moves only 1 step at a time\n",
    "Fast Pointer //Moves 2 steps at a time\n",
    "As soon as these pointers meet, we are sure that there is a LOOP(return true). The stop condition for our loop will be that if either of these pointers reach NULL - that means that the linked list has a definite end. Hence, we will break the loop and say that there is NO LOOP(return false)."
   ]
  },
  {
   "cell_type": "code",
   "execution_count": null,
   "metadata": {},
   "outputs": [],
   "source": [
    "\n",
    "def hasCycle(self, head):\n",
    "    fast, slow = head, head\n",
    "    #while fast and fast.next:\n",
    "    #    fast, slow = fast.next.next, slow.next\n",
    "    #    if fast is slow: #If they meet then there is a loop\n",
    "    #        return True\n",
    "    #return False   \n",
    "\n",
    "    while fast and fast.next:\n",
    "        slow = slow.next\n",
    "        fast = fast.next.next\n",
    "\n",
    "        if fast is slow :\n",
    "            return True\n",
    "    return False "
   ]
  }
 ],
 "metadata": {
  "kernelspec": {
   "display_name": "Python 3",
   "language": "python",
   "name": "python3"
  },
  "language_info": {
   "codemirror_mode": {
    "name": "ipython",
    "version": 3
   },
   "file_extension": ".py",
   "mimetype": "text/x-python",
   "name": "python",
   "nbconvert_exporter": "python",
   "pygments_lexer": "ipython3",
   "version": "3.6.4"
  }
 },
 "nbformat": 4,
 "nbformat_minor": 2
}
