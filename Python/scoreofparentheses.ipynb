{
 "cells": [
  {
   "cell_type": "markdown",
   "metadata": {},
   "source": [
    "Given a balanced parentheses string S, compute the score of the string based on the following rule:\n",
    "\n",
    "- () has score 1\n",
    "- AB has score A + B, where A and B are balanced parentheses strings.\n",
    "- (A) has score 2 * A, where A is a balanced parentheses string."
   ]
  },
  {
   "cell_type": "code",
   "execution_count": null,
   "metadata": {},
   "outputs": [],
   "source": [
    "class Solution(object):\n",
    "    def scoreOfParentheses(self, S):\n",
    "        \"\"\"\n",
    "        time : O(n), n is the len of s\n",
    "        space : O(n), we are using stack\n",
    "        \"\"\"\n",
    "        stack = [0] #The score of the current frame\n",
    "\n",
    "        for x in S:\n",
    "            if x == '(':\n",
    "                stack.append(0)\n",
    "            else:\n",
    "                # if stack[-1] == 0 then 1 else 2 * stack[-1] and store it into the stack[-2] \n",
    "                v = stack.pop()\n",
    "                \n",
    "                stack[-1] += max(2 * v, 1)\n",
    "\n",
    "        return stack.pop()\n",
    "    \n",
    "    # using bitwise operator\n",
    "    def scoreOfParenthesesbitwise(self, S):\n",
    "        \"\"\"\n",
    "        time : O(n), n is the len of s\n",
    "        space : O(1) no stack\n",
    "        \"\"\"\n",
    "        ans = bal = 0\n",
    "        for i, x in enumerate(S):\n",
    "            if x == '(':\n",
    "                bal += 1\n",
    "            else:\n",
    "                bal -= 1\n",
    "                if S[i-1] == '(':\n",
    "                    ans += 1 << bal\n",
    "        return ans    \n",
    "    # left bitwise operator a << b is equal to a * pow(2, b)\n",
    "    # right bitwise operator a >> b is equal to a // pow(2, b)"
   ]
  }
 ],
 "metadata": {
  "kernelspec": {
   "display_name": "Python 3",
   "language": "python",
   "name": "python3"
  },
  "language_info": {
   "codemirror_mode": {
    "name": "ipython",
    "version": 3
   },
   "file_extension": ".py",
   "mimetype": "text/x-python",
   "name": "python",
   "nbconvert_exporter": "python",
   "pygments_lexer": "ipython3",
   "version": "3.6.2"
  }
 },
 "nbformat": 4,
 "nbformat_minor": 2
}
