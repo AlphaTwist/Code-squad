{
 "cells": [
  {
   "cell_type": "markdown",
   "metadata": {},
   "source": [
    "## Maximum Product of Three Numbers`\n",
    "Given an integer array, find three numbers whose product is maximum and output the maximum product."
   ]
  },
  {
   "cell_type": "code",
   "execution_count": null,
   "metadata": {},
   "outputs": [],
   "source": [
    "\"\"\"\n",
    "my thought process was, what are the ways we can multiply 3 numbers to get the biggest product?\n",
    "One way is we multiply the 3 biggest positive numbers to get the max product\n",
    "The other way is multiply the 2 smallest negative numbers with the biggest positive number to get the max product\n",
    "hence, we just need to keep track of the 3 biggest numbers and the 2 smallest numbers. Then calculate the max product you can get with positive numbers by multiplying the max 3, and calculate the max product you can get with the smallest 2 numbers and the biggest number.\n",
    "\"\"\"\n",
    "\n",
    "class Solution(object):\n",
    "    def maximumProduct(self, nums):\n",
    "        \"\"\"\n",
    "        :type nums: List[int]\n",
    "        :rtype: int\n",
    "        \"\"\"\n",
    "        max_1, max_2, max_3 = float('-inf'), float('-inf'), float('-inf')\n",
    "        min_1, min_2 = float('inf'), float('inf')\n",
    "        \n",
    "        for num in nums:\n",
    "            if num > max_1:\n",
    "                max_3, max_2, max_1 = max_2, max_1, num\n",
    "            elif num > max_2:\n",
    "                max_3, max_2 = max_2, num\n",
    "            elif num > max_3:\n",
    "                max_3 = num\n",
    "                \n",
    "            if num < min_1:\n",
    "                min_2, min_1 = min_1, num\n",
    "            elif num < min_2:\n",
    "                min_2 = num\n",
    "                \n",
    "        return max(max_1*max_2*max_3, min_1*min_2*max_1)"
   ]
  }
 ],
 "metadata": {
  "kernelspec": {
   "display_name": "Python 3",
   "language": "python",
   "name": "python3"
  },
  "language_info": {
   "codemirror_mode": {
    "name": "ipython",
    "version": 3
   },
   "file_extension": ".py",
   "mimetype": "text/x-python",
   "name": "python",
   "nbconvert_exporter": "python",
   "pygments_lexer": "ipython3",
   "version": "3.6.2"
  }
 },
 "nbformat": 4,
 "nbformat_minor": 2
}
