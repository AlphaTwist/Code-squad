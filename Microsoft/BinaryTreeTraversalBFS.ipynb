{
 "cells": [
  {
   "cell_type": "code",
   "execution_count": null,
   "metadata": {},
   "outputs": [],
   "source": [
    "# Definition for a binary tree node.\n",
    "# class TreeNode(object):\n",
    "#     def __init__(self, x):\n",
    "#         self.val = x\n",
    "#         self.left = None\n",
    "#         self.right = None\n",
    "\n",
    "class Solution1(object): #iterative solution\n",
    "    def levelOrder(self, root):\n",
    "        \"\"\"\n",
    "        :type root: TreeNode\n",
    "        :rtype: List[List[int]]\n",
    "        \"\"\"\n",
    "        if not root:\n",
    "            return []\n",
    "        result = []\n",
    "        queue = []\n",
    "        queue.append(root)        \n",
    "        while len(queue)>0:\n",
    "            level_list = []\n",
    "            l = len(queue)\n",
    "            for i in range(l):\n",
    "                node = queue.pop(0)\n",
    "                level_list.append(node.val)\n",
    "                if node.left:\n",
    "                    queue.append(node.left)        \n",
    "                if node.right:\n",
    "                    queue.append(node.right)\n",
    "            result.append(level_list)\n",
    "            \n",
    "        return result\n",
    "    \n",
    "class Solution(object): #recurssive solution\n",
    "    def levelOrder(self, root):\n",
    "        \"\"\"\n",
    "        :type root: TreeNode\n",
    "        :rtype: List[List[int]]\n",
    "        \"\"\"\n",
    "        def tranverse(a, k):\n",
    "            if a is None:\n",
    "                return\n",
    "            if len(res) < k + 1:\n",
    "                res.append([])\n",
    "            res[k].append(a.val)\n",
    "            tranverse(a.left, k + 1)\n",
    "            tranverse(a.right, k + 1)\n",
    "            \n",
    "        res = []\n",
    "        tranverse(root, 0)\n",
    "        return res"
   ]
  }
 ],
 "metadata": {
  "kernelspec": {
   "display_name": "Python 3",
   "language": "python",
   "name": "python3"
  },
  "language_info": {
   "codemirror_mode": {
    "name": "ipython",
    "version": 3
   },
   "file_extension": ".py",
   "mimetype": "text/x-python",
   "name": "python",
   "nbconvert_exporter": "python",
   "pygments_lexer": "ipython3",
   "version": "3.6.2"
  }
 },
 "nbformat": 4,
 "nbformat_minor": 2
}
