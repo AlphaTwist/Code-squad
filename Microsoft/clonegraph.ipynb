{
 "cells": [
  {
   "cell_type": "markdown",
   "metadata": {},
   "source": [
    "Clone an undirected graph. Each node in the graph contains a label and a list of its neighbors.\n",
    "\n",
    "\n",
    "OJ's undirected graph serialization:\n",
    "Nodes are labeled uniquely.\n",
    "\n",
    "We use # as a separator for each node, and , as a separator for node label and each neighbor of the node.\n",
    "As an example, consider the serialized graph {0,1,2#1,2#2,2}.\n",
    "\n",
    "The graph has a total of three nodes, and therefore contains three parts as separated by #.\n",
    "\n",
    "First node is labeled as 0. Connect node 0 to both nodes 1 and 2.\n",
    "Second node is labeled as 1. Connect node 1 to node 2.\n",
    "Third node is labeled as 2. Connect node 2 to node 2 (itself), thus forming a self-cycle.\n",
    "Visually, the graph looks like the following:\n",
    "\n",
    "       1\n",
    "      / \\\n",
    "     /   \\\n",
    "    0 --- 2\n",
    "         / \\\n",
    "         \\_/"
   ]
  },
  {
   "cell_type": "code",
   "execution_count": null,
   "metadata": {},
   "outputs": [],
   "source": [
    "# Definition for a undirected graph node\n",
    "# class UndirectedGraphNode:\n",
    "#     def __init__(self, x):\n",
    "#         self.label = x\n",
    "#         self.neighbors = []\n",
    "\n",
    "class Solution:\n",
    "    # @param node, a undirected graph node\n",
    "    # @return a undirected graph node\n",
    "    def cloneGraph(self, node):\n",
    "        if not node:return None\n",
    "        dic = {node:UndirectedGraphNode(node.label)}\n",
    "        stack = [node]\n",
    "        while stack:\n",
    "            new_stack = []\n",
    "            for parent in stack:\n",
    "                new_neighbors = []\n",
    "                for neighbor in parent.neighbors:\n",
    "                    if not neighbor in dic:\n",
    "                        dic.update({neighbor:UndirectedGraphNode(neighbor.label)})\n",
    "                        new_stack.append(neighbor)\n",
    "                    new_neighbors.append(dic[neighbor])\n",
    "                dic[parent].neighbors = new_neighbors\n",
    "            stack = new_stack\n",
    "        return dic[node]"
   ]
  }
 ],
 "metadata": {
  "kernelspec": {
   "display_name": "Python 3",
   "language": "python",
   "name": "python3"
  },
  "language_info": {
   "codemirror_mode": {
    "name": "ipython",
    "version": 3
   },
   "file_extension": ".py",
   "mimetype": "text/x-python",
   "name": "python",
   "nbconvert_exporter": "python",
   "pygments_lexer": "ipython3",
   "version": "3.6.2"
  }
 },
 "nbformat": 4,
 "nbformat_minor": 2
}
