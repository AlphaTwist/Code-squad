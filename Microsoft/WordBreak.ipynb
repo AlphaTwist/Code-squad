{
 "cells": [
  {
   "cell_type": "code",
   "execution_count": 27,
   "metadata": {},
   "outputs": [],
   "source": [
    "def wordBreak(s, wordDict):\n",
    "    \"\"\"\n",
    "    :type s: str\n",
    "    :type wordDict: List[str]\n",
    "    :rtype: bool\n",
    "    \"\"\"\n",
    "    words = {w for w in wordDict}\n",
    "    print(words)\n",
    "    n = len(s) + 1\n",
    "    ok = [False] * n\n",
    "    ok[0] = True\n",
    "    for j in range(1, n):\n",
    "        for i in range(j):         \n",
    "            if ok[i] and s[i: j] in words:\n",
    "                ok[j] = True\n",
    "                break\n",
    "    return ok[-1]"
   ]
  },
  {
   "cell_type": "code",
   "execution_count": 28,
   "metadata": {},
   "outputs": [],
   "source": [
    "s = \"leetcode\"\n",
    "wordDict = [ \"l\",\"leet\", \"code\"]"
   ]
  },
  {
   "cell_type": "code",
   "execution_count": 29,
   "metadata": {},
   "outputs": [
    {
     "name": "stdout",
     "output_type": "stream",
     "text": [
      "{'l', 'code', 'leet'}\n"
     ]
    },
    {
     "data": {
      "text/plain": [
       "True"
      ]
     },
     "execution_count": 29,
     "metadata": {},
     "output_type": "execute_result"
    }
   ],
   "source": [
    "wordBreak(s, wordDict)"
   ]
  },
  {
   "cell_type": "code",
   "execution_count": null,
   "metadata": {},
   "outputs": [],
   "source": [
    "def wordBreak(self, s, wordDict):\n",
    "    \"\"\"\n",
    "    :type s: str\n",
    "    :type wordDict: Set[str]\n",
    "    :rtype: List[str]\n",
    "    \"\"\"\n",
    "    return self.helper(s, wordDict, {})\n",
    "\n",
    "def helper(self, s, wordDict, memo):\n",
    "    if s in memo: return memo[s]\n",
    "    if not s: return []\n",
    "\n",
    "    res = []\n",
    "    for word in wordDict:\n",
    "        if not s.startswith(word):\n",
    "            continue\n",
    "        if len(word) == len(s):\n",
    "            res.append(word)\n",
    "        else:\n",
    "            resultOfTheRest = self.helper(s[len(word):], wordDict, memo)\n",
    "            for item in resultOfTheRest:\n",
    "                item = word + ' ' + item\n",
    "                res.append(item)\n",
    "    memo[s] = res\n",
    "    return res"
   ]
  }
 ],
 "metadata": {
  "kernelspec": {
   "display_name": "Python 3",
   "language": "python",
   "name": "python3"
  },
  "language_info": {
   "codemirror_mode": {
    "name": "ipython",
    "version": 3
   },
   "file_extension": ".py",
   "mimetype": "text/x-python",
   "name": "python",
   "nbconvert_exporter": "python",
   "pygments_lexer": "ipython3",
   "version": "3.6.4"
  }
 },
 "nbformat": 4,
 "nbformat_minor": 2
}
