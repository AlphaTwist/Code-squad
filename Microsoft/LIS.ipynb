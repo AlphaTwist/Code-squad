{
 "cells": [
  {
   "cell_type": "code",
   "execution_count": null,
   "metadata": {},
   "outputs": [],
   "source": [
    "# Binary search solution.\n",
    "# Time:  O(nlogn)\n",
    "# Space: O(n)\n",
    "class Solution(object):\n",
    "    def lengthOfLIS(self, nums):\n",
    "        \"\"\"\n",
    "        :type nums: List[int]\n",
    "        :rtype: int\n",
    "        \"\"\"\n",
    "        LIS = []\n",
    "        def insert(target):\n",
    "            left, right = 0, len(LIS) - 1\n",
    "            # Find the first index \"left\" which satisfies LIS[left] >= target\n",
    "            while left <= right:\n",
    "                mid = left + (right - left) // 2\n",
    "                if LIS[mid] >= target:\n",
    "                    right = mid - 1\n",
    "                else:\n",
    "                    left = mid + 1\n",
    "            # If not found, append the target.\n",
    "            if left == len(LIS):\n",
    "                LIS.append(target);\n",
    "            else:\n",
    "                LIS[left] = target\n",
    "\n",
    "        for num in nums:\n",
    "            insert(num)\n",
    "\n",
    "        return len(LIS)"
   ]
  }
 ],
 "metadata": {
  "kernelspec": {
   "display_name": "Python 3",
   "language": "python",
   "name": "python3"
  },
  "language_info": {
   "codemirror_mode": {
    "name": "ipython",
    "version": 3
   },
   "file_extension": ".py",
   "mimetype": "text/x-python",
   "name": "python",
   "nbconvert_exporter": "python",
   "pygments_lexer": "ipython3",
   "version": "3.6.4"
  }
 },
 "nbformat": 4,
 "nbformat_minor": 2
}
