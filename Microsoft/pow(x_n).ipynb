{
 "cells": [
  {
   "cell_type": "markdown",
   "metadata": {},
   "source": [
    "## pow(x,n)"
   ]
  },
  {
   "cell_type": "code",
   "execution_count": null,
   "metadata": {},
   "outputs": [],
   "source": [
    "# recursion\n",
    "def myPow( x, n):\n",
    "    \"\"\"\n",
    "    :type x: float\n",
    "    :type n: int\n",
    "    :rtype: float\n",
    "\n",
    "    \"\"\"\n",
    "    N = n\n",
    "    if (N < 0):\n",
    "        x = 1 / x\n",
    "        N = -N\n",
    "\n",
    "    return self.fastPow(x, N)\n",
    "\n",
    "\n",
    "def fastPow(self, x, n) :\n",
    "    if (n == 0) :\n",
    "        return 1.0;\n",
    "\n",
    "    half = self.fastPow(x, n // 2)\n",
    "    if (n % 2 == 0) :\n",
    "        return half * half\n",
    "    else :\n",
    "        return half * half * x"
   ]
  },
  {
   "cell_type": "markdown",
   "metadata": {},
   "source": [
    "Time complexity : O(log(n)). Each time we apply the formula (x ^ n) ^ 2 = x ^ {2 * n}(x\n",
    "​n\n",
    "​​ )\n",
    "​2\n",
    "​​ =x\n",
    "​2∗n\n",
    "​​ , nn is reduced by half. Thus we need at most O(log(n))O(log(n)) computations to get the result.\n",
    "\n",
    "Space complexity :O(log(n)). For each computation, we need to store the result of x ^ {n / 2}x\n",
    "​n/2\n",
    "​​ . We need to do the computation for O(log(n)) times, so the space complexity is O(log(n))O(log(n)). "
   ]
  },
  {
   "cell_type": "code",
   "execution_count": 9,
   "metadata": {},
   "outputs": [],
   "source": [
    "# Iterative approch\n",
    "def myPowi( x, n):\n",
    "    \"\"\"\n",
    "    :type x: float\n",
    "    :type n: int\n",
    "    :rtype: float\n",
    "\n",
    "    \"\"\"\n",
    "    N = n\n",
    "    if (N < 0):\n",
    "        x = 1 / x\n",
    "        N = -N\n",
    "        \n",
    "    res, cur_prod, i  = 1, x, N\n",
    "    while ( i > 0):\n",
    "        print(i)\n",
    "        if i % 2 == 1:\n",
    "            res = res * cur_prod\n",
    "        print(\"res:  {0}\".format(res))    \n",
    "        cur_prod = cur_prod * cur_prod\n",
    "        print(\"cp:  {0}\".format(cur_prod))   \n",
    "        i = i // 2\n",
    "        \n",
    "    return res    \n",
    "    "
   ]
  },
  {
   "cell_type": "code",
   "execution_count": 10,
   "metadata": {},
   "outputs": [
    {
     "name": "stdout",
     "output_type": "stream",
     "text": [
      "10\n",
      "res:  1\n",
      "cp:  4.0\n",
      "5\n",
      "res:  4.0\n",
      "cp:  16.0\n",
      "2\n",
      "res:  4.0\n",
      "cp:  256.0\n",
      "1\n",
      "res:  1024.0\n",
      "cp:  65536.0\n"
     ]
    },
    {
     "data": {
      "text/plain": [
       "1024.0"
      ]
     },
     "execution_count": 10,
     "metadata": {},
     "output_type": "execute_result"
    }
   ],
   "source": [
    "myPowi(2.00000, 10)"
   ]
  },
  {
   "cell_type": "code",
   "execution_count": 7,
   "metadata": {},
   "outputs": [
    {
     "data": {
      "text/plain": [
       "9.261000000000001"
      ]
     },
     "execution_count": 7,
     "metadata": {},
     "output_type": "execute_result"
    }
   ],
   "source": [
    "myPowi(2.10000, 3)"
   ]
  },
  {
   "cell_type": "code",
   "execution_count": 8,
   "metadata": {},
   "outputs": [
    {
     "data": {
      "text/plain": [
       "0.25"
      ]
     },
     "execution_count": 8,
     "metadata": {},
     "output_type": "execute_result"
    }
   ],
   "source": [
    "myPowi(2.00000, -2)"
   ]
  },
  {
   "cell_type": "markdown",
   "metadata": {},
   "source": [
    "Using the formula x ^ {a + b} = x ^ a * x ^ bx\n",
    "​a+b\n",
    "​​ =x\n",
    "​a\n",
    "​​ ∗x\n",
    "​b\n",
    "​​ , we can write n as a sum of positive integers, n = \\sum_i b_in=∑\n",
    "​i\n",
    "​​ b\n",
    "​i\n",
    "​​ . If we can get the result of x ^ {b_i}x\n",
    "​b\n",
    "​i\n",
    "​​ \n",
    "​​  quickly, the total time for computing x ^ nx\n",
    "​n\n",
    "​​  will be reduced.\n",
    "Complexity Analysis\n",
    "\n",
    "Time complexity : O(log(n)). For each bit of n 's binary representation, we will at most multiply once. So the total time complexity is O(log(n)).\n",
    "\n",
    "Space complexity :O(1). We only need two variables for the current product and the final result of x."
   ]
  },
  {
   "cell_type": "code",
   "execution_count": null,
   "metadata": {},
   "outputs": [],
   "source": [
    "class Solution(object):\n",
    "    def isPowerOfThree(self, n):\n",
    "        if n <= 0:\n",
    "        \treturn False\n",
    "\n",
    "        while n % 3 == 0:        \t\n",
    "        \tn = n / 3\n",
    "\n",
    "        return True if n == 1 else False"
   ]
  },
  {
   "cell_type": "markdown",
   "metadata": {},
   "source": [
    "https://stackoverflow.com/questions/1804311/how-to-check-if-an-integer-is-a-power-of-3/24274850#24274850"
   ]
  },
  {
   "cell_type": "code",
   "execution_count": null,
   "metadata": {},
   "outputs": [],
   "source": [
    "def isPowerOfThree(self, n):\n",
    "    return n > 0 == 3**19 % n"
   ]
  },
  {
   "cell_type": "markdown",
   "metadata": {},
   "source": [
    "The positive divisors of 319 are exactly the powers of 3 from 30 to 319. That's all powers of 3 in the possible range here (signed 32-bit integer). So just check whether the number is positive and whether it divides 319."
   ]
  },
  {
   "cell_type": "code",
   "execution_count": null,
   "metadata": {},
   "outputs": [],
   "source": []
  },
  {
   "cell_type": "markdown",
   "metadata": {},
   "source": []
  },
  {
   "cell_type": "code",
   "execution_count": null,
   "metadata": {},
   "outputs": [],
   "source": []
  },
  {
   "cell_type": "code",
   "execution_count": null,
   "metadata": {},
   "outputs": [],
   "source": []
  }
 ],
 "metadata": {
  "kernelspec": {
   "display_name": "Python 3",
   "language": "python",
   "name": "python3"
  },
  "language_info": {
   "codemirror_mode": {
    "name": "ipython",
    "version": 3
   },
   "file_extension": ".py",
   "mimetype": "text/x-python",
   "name": "python",
   "nbconvert_exporter": "python",
   "pygments_lexer": "ipython3",
   "version": "3.6.4"
  }
 },
 "nbformat": 4,
 "nbformat_minor": 2
}
