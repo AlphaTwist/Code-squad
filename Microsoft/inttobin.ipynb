{
 "cells": [
  {
   "cell_type": "code",
   "execution_count": 3,
   "metadata": {},
   "outputs": [],
   "source": [
    "def intToBinaryString( number ):\n",
    "\n",
    "    result = \"\"\n",
    "    \n",
    "    while number > 0:\n",
    "        result = ( \"1\" if ( number % 2 != 0 ) else \"0\" ) + result\n",
    "        number = number // 2\n",
    "\n",
    "    while len( result ) % 8 != 0:\n",
    "        result = \"0\" + result\n",
    "        \n",
    "    return result"
   ]
  },
  {
   "cell_type": "code",
   "execution_count": 4,
   "metadata": {},
   "outputs": [
    {
     "data": {
      "text/plain": [
       "'00001000'"
      ]
     },
     "execution_count": 4,
     "metadata": {},
     "output_type": "execute_result"
    }
   ],
   "source": [
    "intToBinaryString(8)"
   ]
  },
  {
   "cell_type": "code",
   "execution_count": 30,
   "metadata": {},
   "outputs": [],
   "source": [
    "#Given an array that contains 1 missing and 1 duplicate, find both\n",
    "def printTwoElements(arr):\n",
    "    size = len(arr)\n",
    "    for i in range(size):\n",
    "        print(abs(arr[i])-1)\n",
    "        if arr[abs(arr[i])-1] > 0:\n",
    "            arr[abs(arr[i])-1] = -arr[abs(arr[i])-1]\n",
    "            print(arr)\n",
    "        else:\n",
    "            print(\"The repeating element is\",abs(arr[i]))\n",
    "             \n",
    "    for i in range(size):\n",
    "        print (arr[i])\n",
    "        if arr[i]>0:\n",
    "            print(\"and the missing element is\",i+1)"
   ]
  },
  {
   "cell_type": "code",
   "execution_count": 31,
   "metadata": {},
   "outputs": [
    {
     "name": "stdout",
     "output_type": "stream",
     "text": [
      "0\n",
      "[-1, 3, 3]\n",
      "2\n",
      "[-1, 3, -3]\n",
      "2\n",
      "The repeating element is 3\n",
      "-1\n",
      "3\n",
      "and the missing element is 2\n",
      "-3\n"
     ]
    }
   ],
   "source": [
    "printTwoElements([1,3,3])"
   ]
  },
  {
   "cell_type": "code",
   "execution_count": null,
   "metadata": {},
   "outputs": [],
   "source": [
    "# duplicate"
   ]
  },
  {
   "cell_type": "code",
   "execution_count": null,
   "metadata": {},
   "outputs": [],
   "source": [
    "class Solution:\n",
    "    def findDuplicate(self, nums):\n",
    "        \"\"\"\n",
    "        :type nums: List[int]\n",
    "        :rtype: int\n",
    "        \"\"\"\n",
    "        if len(nums) == 0:\n",
    "            return None\n",
    "        slow = fast = nums[0]\n",
    "        while True:\n",
    "            slow = nums[slow]\n",
    "            fast = nums[nums[fast]]\n",
    "            if slow == fast:\n",
    "                break\n",
    "        fast = nums[0]\n",
    "        while slow != fast:\n",
    "            slow = nums[slow]\n",
    "            fast = nums[fast]\n",
    "        return slow"
   ]
  },
  {
   "cell_type": "code",
   "execution_count": null,
   "metadata": {},
   "outputs": [],
   "source": []
  }
 ],
 "metadata": {
  "kernelspec": {
   "display_name": "Python 3",
   "language": "python",
   "name": "python3"
  },
  "language_info": {
   "codemirror_mode": {
    "name": "ipython",
    "version": 3
   },
   "file_extension": ".py",
   "mimetype": "text/x-python",
   "name": "python",
   "nbconvert_exporter": "python",
   "pygments_lexer": "ipython3",
   "version": "3.6.4"
  }
 },
 "nbformat": 4,
 "nbformat_minor": 2
}
