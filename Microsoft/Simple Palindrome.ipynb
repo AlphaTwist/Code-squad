{
 "cells": [
  {
   "cell_type": "markdown",
   "metadata": {},
   "source": [
    "## Palindrome problems"
   ]
  },
  {
   "cell_type": "markdown",
   "metadata": {},
   "source": [
    "Given a string, determine if it is a palindrome, considering only alphanumeric characters and ignoring cases.\n",
    "\n",
    "Input: \"A man, a plan, a canal: Panama\"\n",
    "\n",
    "Output: true\n",
    "\n",
    "Input: \"race a car\"\n",
    "\n",
    "Output: false"
   ]
  },
  {
   "cell_type": "code",
   "execution_count": 3,
   "metadata": {},
   "outputs": [],
   "source": [
    "def isPalindrome(s):\n",
    "    \"\"\"\n",
    "    :type s: str\n",
    "    :rtype: bool\n",
    "    \"\"\"\n",
    "    if not s:\n",
    "            return True\n",
    "        \n",
    "    s_procced = ''.join(c for c in s.lower() if c.isalnum())\n",
    "    slen = len(s_procced)\n",
    "    \n",
    "    mid = slen // 2\n",
    "    for i in range(mid):\n",
    "        if s_procced[i] != s_procced[slen-i-1]:\n",
    "            return False\n",
    "    return True  \n",
    "\n",
    "    # pythonic one liner code\n",
    "    #return (s_procced == s_procced[::-1])"
   ]
  },
  {
   "cell_type": "code",
   "execution_count": 4,
   "metadata": {},
   "outputs": [
    {
     "data": {
      "text/plain": [
       "True"
      ]
     },
     "execution_count": 4,
     "metadata": {},
     "output_type": "execute_result"
    }
   ],
   "source": [
    "isPalindrome(\"A man, a plan, a canal: Panama\")"
   ]
  },
  {
   "cell_type": "code",
   "execution_count": 5,
   "metadata": {},
   "outputs": [
    {
     "data": {
      "text/plain": [
       "False"
      ]
     },
     "execution_count": 5,
     "metadata": {},
     "output_type": "execute_result"
    }
   ],
   "source": [
    "isPalindrome(\"race a car\")"
   ]
  },
  {
   "cell_type": "code",
   "execution_count": 8,
   "metadata": {},
   "outputs": [
    {
     "data": {
      "text/plain": [
       "True"
      ]
     },
     "execution_count": 8,
     "metadata": {},
     "output_type": "execute_result"
    }
   ],
   "source": [
    "isPalindrome(\"123321\")"
   ]
  },
  {
   "cell_type": "code",
   "execution_count": 9,
   "metadata": {},
   "outputs": [
    {
     "data": {
      "text/plain": [
       "True"
      ]
     },
     "execution_count": 9,
     "metadata": {},
     "output_type": "execute_result"
    }
   ],
   "source": [
    "isPalindrome(\" \")"
   ]
  },
  {
   "cell_type": "markdown",
   "metadata": {},
   "source": [
    "Determine whether an integer is a palindrome. An integer is a palindrome when it reads the same backward as forward.\n",
    "Coud you solve it without converting the integer to a string?"
   ]
  },
  {
   "cell_type": "code",
   "execution_count": 23,
   "metadata": {},
   "outputs": [],
   "source": [
    "def isPalindrome_num(num):\n",
    "    \"\"\"\n",
    "    :type s: str\n",
    "    :rtype: bool\n",
    "    Time complexity :  O(log_10 ​ (n)). We divided the input by 10 for every iteration, \n",
    "    so the time complexity is O(log_10 ​ (n)) - wrong complexity calculation\n",
    "    Space complexity : O(1).\n",
    "    \"\"\"\n",
    "    \n",
    "    if num < 0 or (num % 10 == 0 and num != 0):\n",
    "            return False\n",
    "        \n",
    "    rev = 0\n",
    "    while num > rev :\n",
    "        rev = rev * 10 + num % 10\n",
    "        num = num//10\n",
    "\n",
    "    #return num == rev or num == rev//10    \n",
    "\n",
    "    # pythonic one liner code\n",
    "    #return int(str(abs(x))[::-1]) == x"
   ]
  },
  {
   "cell_type": "code",
   "execution_count": 25,
   "metadata": {},
   "outputs": [
    {
     "name": "stdout",
     "output_type": "stream",
     "text": [
      "154\n",
      "1565\n"
     ]
    },
    {
     "data": {
      "text/plain": [
       "False"
      ]
     },
     "execution_count": 25,
     "metadata": {},
     "output_type": "execute_result"
    }
   ],
   "source": [
    "isPalindrome_num(1545651)"
   ]
  },
  {
   "cell_type": "code",
   "execution_count": null,
   "metadata": {},
   "outputs": [],
   "source": []
  }
 ],
 "metadata": {
  "kernelspec": {
   "display_name": "Python 3",
   "language": "python",
   "name": "python3"
  },
  "language_info": {
   "codemirror_mode": {
    "name": "ipython",
    "version": 3
   },
   "file_extension": ".py",
   "mimetype": "text/x-python",
   "name": "python",
   "nbconvert_exporter": "python",
   "pygments_lexer": "ipython3",
   "version": "3.6.4"
  }
 },
 "nbformat": 4,
 "nbformat_minor": 2
}
