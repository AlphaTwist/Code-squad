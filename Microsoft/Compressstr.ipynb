{
 "cells": [
  {
   "cell_type": "markdown",
   "metadata": {},
   "source": [
    "## String Compression\n",
    "Given an array of characters, compress it in-place.\n",
    "\n",
    "The length after compression must always be smaller than or equal to the original array.\n",
    "\n",
    "Every element of the array should be a character (not int) of length 1.\n",
    "\n",
    "After you are done modifying the input array in-place, return the new length of the array."
   ]
  },
  {
   "cell_type": "code",
   "execution_count": 6,
   "metadata": {},
   "outputs": [],
   "source": [
    "def compress_str(chars):\n",
    "    anchor = write = 0\n",
    "    for read, ch in enumerate(chars):\n",
    "        if read + 1 == len(chars) or chars[read+1] != ch:\n",
    "            chars[write] = chars[anchor]\n",
    "            write += 1\n",
    "            if read > anchor:\n",
    "                for digit in str(read - anchor + 1):\n",
    "                    chars[write] = digit\n",
    "                    write += 1\n",
    "            anchor = read + 1\n",
    "    print(chars)       \n",
    "    return write"
   ]
  },
  {
   "cell_type": "code",
   "execution_count": 7,
   "metadata": {},
   "outputs": [
    {
     "name": "stdout",
     "output_type": "stream",
     "text": [
      "['a', 'b', '1', '2', 'b', 'b', 'b', 'b', 'b', 'b', 'b', 'b', 'b']\n"
     ]
    },
    {
     "data": {
      "text/plain": [
       "4"
      ]
     },
     "execution_count": 7,
     "metadata": {},
     "output_type": "execute_result"
    }
   ],
   "source": [
    "compress_str([\"a\",\"b\",\"b\",\"b\",\"b\",\"b\",\"b\",\"b\",\"b\",\"b\",\"b\",\"b\",\"b\"])"
   ]
  },
  {
   "cell_type": "code",
   "execution_count": null,
   "metadata": {},
   "outputs": [],
   "source": []
  }
 ],
 "metadata": {
  "kernelspec": {
   "display_name": "Python 3",
   "language": "python",
   "name": "python3"
  },
  "language_info": {
   "codemirror_mode": {
    "name": "ipython",
    "version": 3
   },
   "file_extension": ".py",
   "mimetype": "text/x-python",
   "name": "python",
   "nbconvert_exporter": "python",
   "pygments_lexer": "ipython3",
   "version": "3.6.4"
  }
 },
 "nbformat": 4,
 "nbformat_minor": 2
}
