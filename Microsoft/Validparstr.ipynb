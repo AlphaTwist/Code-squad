{
 "cells": [
  {
   "cell_type": "markdown",
   "metadata": {},
   "source": [
    "\n",
    "## Valid Parenthesis String\n",
    "\n",
    "Given a string containing only three types of characters: '(', ')' and '*', write a function to check whether this string is valid. We define the validity of a string by these rules:\n",
    "\n",
    "Any left parenthesis '(' must have a corresponding right parenthesis ')'.\n",
    "Any right parenthesis ')' must have a corresponding left parenthesis '('.\n",
    "Left parenthesis '(' must go before the corresponding right parenthesis ')'.\n",
    "'*' could be treated as a single right parenthesis ')' or a single left parenthesis '(' or an empty string.\n",
    "An empty string is also valid."
   ]
  },
  {
   "cell_type": "markdown",
   "metadata": {},
   "source": [
    "#### Complexity Analysis\n",
    "\n",
    "Time Complexity: O(N), where N is the length of the string. We iterate through the string once.\n",
    "\n",
    "Space Complexity: O(1), the space used by our lo and hi pointers. However, creating a new character array will take O(N) space."
   ]
  },
  {
   "cell_type": "code",
   "execution_count": 2,
   "metadata": {},
   "outputs": [],
   "source": [
    "# Time:  O(n)\n",
    "# Space: O(1)\n",
    "\n",
    "def checkValidString(s):\n",
    "    \"\"\"\n",
    "    :type s: str\n",
    "    :rtype: bool\n",
    "    \"\"\"\n",
    "    lower, upper = 0, 0  # keep lower bound and upper bound of '(' counts\n",
    "    for c in s:\n",
    "        lower += 1 if c == '(' else -1\n",
    "        upper -= 1 if c == ')' else -1\n",
    "        if upper < 0: break\n",
    "        lower = max(lower, 0)\n",
    "    return lower == 0  # range of '(' count is valid"
   ]
  },
  {
   "cell_type": "code",
   "execution_count": 3,
   "metadata": {},
   "outputs": [],
   "source": [
    "#Valid Parenthesis\n",
    "# Time:  O(n)\n",
    "# Space: O(n)\n",
    "\n",
    "# @return a boolean\n",
    "def isValid(s):\n",
    "    stack, lookup = [], {\"(\": \")\", \"{\": \"}\", \"[\": \"]\"}\n",
    "    for parenthese in s:\n",
    "        if parenthese in lookup:\n",
    "            stack.append(parenthese)\n",
    "        elif len(stack) == 0 or lookup[stack.pop()] != parenthese:\n",
    "            return False\n",
    "    return len(stack) == 0"
   ]
  },
  {
   "cell_type": "markdown",
   "metadata": {},
   "source": [
    "## Longest valid pallindrome string\n",
    "\n",
    "Given a string containing just the characters '(' and ')',\n",
    "find the length of the longest valid (well-formed) parentheses substring.\n",
    "For \"(()\", the longest valid parentheses substring is \"()\", which has length = 2.\n",
    "Another example is \")()())\", where the longest valid parentheses substring is \"()()\", which has length = 4."
   ]
  },
  {
   "cell_type": "code",
   "execution_count": 19,
   "metadata": {},
   "outputs": [],
   "source": [
    "def longestValidParentheses( s):\n",
    "    \"\"\"\n",
    "    :type s: str\n",
    "    :rtype: int\n",
    "    \"\"\"\n",
    "    def length(it, start, c):\n",
    "        depth, longest = 0, 0\n",
    "        for i in it:\n",
    "            \n",
    "            if s[i] == c:\n",
    "                depth += 1\n",
    "            else:\n",
    "                depth -= 1\n",
    "                if depth < 0: # reset depth and start to point to new case, ignoring previous\n",
    "                    start, depth = i, 0\n",
    "                elif depth == 0: # valid case count the length\n",
    "                    longest = max(longest, abs(i - start))\n",
    "            print(\"{0}    : {1}-{2}-{3}    - {4}\".format(s[i], i, start, depth,longest))        \n",
    "        return longest\n",
    "\n",
    "    return max(length(range(len(s)), -1, '('), \\\n",
    "               length(reversed(range(len(s))), len(s), ')'))\n",
    "        "
   ]
  },
  {
   "cell_type": "code",
   "execution_count": 20,
   "metadata": {},
   "outputs": [
    {
     "name": "stdout",
     "output_type": "stream",
     "text": [
      ")    : 0-0-0    - 0\n",
      "(    : 1-0-1    - 0\n",
      ")    : 2-0-0    - 2\n",
      "(    : 3-0-1    - 2\n",
      ")    : 4-0-0    - 4\n",
      ")    : 5-5-0    - 4\n",
      ")    : 5-6-1    - 0\n",
      ")    : 4-6-2    - 0\n",
      "(    : 3-6-1    - 0\n",
      ")    : 2-6-2    - 0\n",
      "(    : 1-6-1    - 0\n",
      ")    : 0-6-2    - 0\n"
     ]
    },
    {
     "data": {
      "text/plain": [
       "4"
      ]
     },
     "execution_count": 20,
     "metadata": {},
     "output_type": "execute_result"
    }
   ],
   "source": [
    "s = \")()())\"\n",
    "longestValidParentheses(s)"
   ]
  },
  {
   "cell_type": "markdown",
   "metadata": {},
   "source": [
    "## Remove Invalid paraentheses\n",
    "\n",
    "Time:  O(C(n, c)), try out all possible substrings with the minimum c deletion.\n",
    "Space: O(c), the depth is at most c, and it costs n at each depth\n",
    "    \n",
    "Remove the minimum number of invalid parentheses in order to\n",
    "make the input string valid. Return all possible results.\n",
    "\n",
    "Note: The input string may contain letters other than the\n",
    "parentheses ( and ).\n",
    "\n",
    "Examples:\n",
    "\"()())()\" -> [\"()()()\", \"(())()\"]\n",
    "\"(a)())()\" -> [\"(a)()()\", \"(a())()\"]\n",
    "\")(\" -> [\"\"]\n"
   ]
  },
  {
   "cell_type": "code",
   "execution_count": null,
   "metadata": {},
   "outputs": [],
   "source": [
    "def removeInvalidParentheses(self, s):\n",
    "    \"\"\"\n",
    "    :type s: str\n",
    "    :rtype: List[str]\n",
    "    \"\"\"\n",
    "    # Calculate the minimum left and right parantheses to remove\n",
    "    def findMinRemove(s):\n",
    "        left_removed, right_removed = 0, 0\n",
    "        for c in s:\n",
    "            if c == '(':\n",
    "                left_removed += 1\n",
    "            elif c == ')':\n",
    "                if not left_removed:\n",
    "                    right_removed += 1\n",
    "                else:\n",
    "                    left_removed -= 1\n",
    "        return (left_removed, right_removed)\n",
    "\n",
    "    # Check whether s is valid or not.\n",
    "    def isValid(s):\n",
    "        sum = 0\n",
    "        for c in s:\n",
    "            if c == '(':\n",
    "                sum += 1\n",
    "            elif c == ')':\n",
    "                sum -= 1\n",
    "            if sum < 0:\n",
    "                return False\n",
    "        return sum == 0\n",
    "\n",
    "    def removeInvalidParenthesesHelper(start, left_removed, right_removed):\n",
    "        if left_removed == 0 and right_removed == 0:\n",
    "            tmp = \"\"\n",
    "            for i, c in enumerate(s):\n",
    "                if i not in removed:\n",
    "                    tmp += c\n",
    "            if isValid(tmp):\n",
    "                res.append(tmp)\n",
    "            return\n",
    "\n",
    "        for i in range(start, len(s)):\n",
    "            if right_removed == 0 and left_removed > 0 and s[i] == '(':\n",
    "                if i == start or s[i] != s[i - 1]:  # Skip duplicated.\n",
    "                    removed[i] = True\n",
    "                    removeInvalidParenthesesHelper(i + 1, left_removed - 1, right_removed)\n",
    "                    del removed[i]\n",
    "            elif right_removed > 0 and s[i] == ')':\n",
    "                if i == start or s[i] != s[i - 1]:  # Skip duplicated.\n",
    "                    removed[i] = True\n",
    "                    removeInvalidParenthesesHelper(i + 1, left_removed, right_removed - 1);\n",
    "                    del removed[i]\n",
    "\n",
    "    res, removed = [], {}\n",
    "    (left_removed, right_removed) = findMinRemove(s)\n",
    "    removeInvalidParenthesesHelper(0, left_removed, right_removed)\n",
    "    return res"
   ]
  }
 ],
 "metadata": {
  "kernelspec": {
   "display_name": "Python 3",
   "language": "python",
   "name": "python3"
  },
  "language_info": {
   "codemirror_mode": {
    "name": "ipython",
    "version": 3
   },
   "file_extension": ".py",
   "mimetype": "text/x-python",
   "name": "python",
   "nbconvert_exporter": "python",
   "pygments_lexer": "ipython3",
   "version": "3.6.4"
  }
 },
 "nbformat": 4,
 "nbformat_minor": 2
}
